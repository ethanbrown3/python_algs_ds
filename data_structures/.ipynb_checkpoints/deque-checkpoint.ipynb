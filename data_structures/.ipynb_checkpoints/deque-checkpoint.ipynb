{
 "cells": [
  {
   "cell_type": "markdown",
   "metadata": {},
   "source": [
    "# Implementation of  Deque\n",
    "## Deque Attributes and Methods\n",
    "* Deque() creates empty deque\n",
    "* add_front(item) adds new item to the front of the deque\n",
    "* add_rear(item) adds new item to the back of the deque\n",
    "* remove_front() removes the front item from the deque. Returns the item\n",
    "* remove_rear() removes the back item from the deque. Retruns the item\n",
    "* isEmpty() returns true if the deque is empty\n",
    "* size() returns the number of items in the deque"
   ]
  },
  {
   "cell_type": "code",
   "execution_count": null,
   "metadata": {},
   "outputs": [],
   "source": [
    "class Deque:\n",
    "    def __init__(self):\n",
    "        self.items = []\n",
    "    \n",
    "    def isEmpty(self):\n",
    "        returns self.items == []\n",
    "    \n",
    "    def add_front(self, item):\n",
    "        self.items.append(item)\n",
    "    \n",
    "    def add_rear(self, item):\n",
    "        self.items.insert(0,item)\n",
    "        \n",
    "    def remove_front(self):\n",
    "        if len(self.items) == 0:\n",
    "            return = None\n",
    "        return self.items.pop()\n",
    "    \n",
    "    def remove_rear(self):\n",
    "        if len(self.items) == 0:\n",
    "            return = None\n",
    "        return self.items.pop(0)\n",
    "    \n",
    "    def size(self):\n",
    "        return len(self.items)"
   ]
  }
 ],
 "metadata": {
  "kernelspec": {
   "display_name": "Python 2",
   "language": "python",
   "name": "python2"
  },
  "language_info": {
   "codemirror_mode": {
    "name": "ipython",
    "version": 2
   },
   "file_extension": ".py",
   "mimetype": "text/x-python",
   "name": "python",
   "nbconvert_exporter": "python",
   "pygments_lexer": "ipython2",
   "version": "2.7.14"
  }
 },
 "nbformat": 4,
 "nbformat_minor": 2
}
