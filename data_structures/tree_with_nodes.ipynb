{
 "cells": [
  {
   "cell_type": "code",
   "execution_count": 1,
   "metadata": {},
   "outputs": [],
   "source": [
    "# Tree with Nodes and References"
   ]
  },
  {
   "cell_type": "code",
   "execution_count": 11,
   "metadata": {},
   "outputs": [],
   "source": [
    "class BinaryTree(object):\n",
    "    \n",
    "    def __init__(self,root_object):\n",
    "        \n",
    "        self.key = root_object\n",
    "        self.left_child = None\n",
    "        self.right_child = None\n",
    "        \n",
    "    def insert_left(self, new_node):\n",
    "        \n",
    "        if self.left_child == None:\n",
    "            self.left_child = BinaryTree(new_node)\n",
    "        else: \n",
    "            # insert new node as a binary tree between \n",
    "            # the root and the current right child\n",
    "            t = BinaryTree(new_node)\n",
    "            t.left_child = self.left_child\n",
    "            self.left_child = t\n",
    "    \n",
    "    def insert_right(self, new_node):\n",
    "        \n",
    "        if self.right_child == None:\n",
    "            self.right_child = BinaryTree(new_node)\n",
    "        else:\n",
    "            t = BinaryTree(new_node)\n",
    "            t.right_child = self.right_child\n",
    "            self.right_child = t\n",
    "    \n",
    "    def get_right_child(self):\n",
    "        return self.right_child\n",
    "    \n",
    "    def get_left_child(self):\n",
    "        return self.left_child\n",
    "    \n",
    "    def set_root_value(self, obj):\n",
    "        self.key = obj\n",
    "        \n",
    "    def get_root_value(self):\n",
    "        return self.key\n",
    "    \n"
   ]
  },
  {
   "cell_type": "code",
   "execution_count": 12,
   "metadata": {},
   "outputs": [],
   "source": [
    "r = BinaryTree('a')"
   ]
  },
  {
   "cell_type": "code",
   "execution_count": 13,
   "metadata": {},
   "outputs": [
    {
     "name": "stdout",
     "output_type": "stream",
     "text": [
      "a\n"
     ]
    }
   ],
   "source": [
    "print r.get_root_value()"
   ]
  },
  {
   "cell_type": "code",
   "execution_count": 14,
   "metadata": {},
   "outputs": [
    {
     "name": "stdout",
     "output_type": "stream",
     "text": [
      "None\n"
     ]
    }
   ],
   "source": [
    "print r.get_left_child()"
   ]
  },
  {
   "cell_type": "code",
   "execution_count": 16,
   "metadata": {},
   "outputs": [],
   "source": [
    "r.insert_left('b')"
   ]
  },
  {
   "cell_type": "code",
   "execution_count": 18,
   "metadata": {},
   "outputs": [
    {
     "data": {
      "text/plain": [
       "'b'"
      ]
     },
     "execution_count": 18,
     "metadata": {},
     "output_type": "execute_result"
    }
   ],
   "source": [
    "r.get_left_child().get_root_value()"
   ]
  },
  {
   "cell_type": "code",
   "execution_count": 19,
   "metadata": {},
   "outputs": [],
   "source": [
    "r.insert_right('c')"
   ]
  },
  {
   "cell_type": "code",
   "execution_count": 20,
   "metadata": {},
   "outputs": [
    {
     "ename": "SyntaxError",
     "evalue": "invalid syntax (<ipython-input-20-a1011483e79d>, line 1)",
     "output_type": "error",
     "traceback": [
      "\u001b[0;36m  File \u001b[0;32m\"<ipython-input-20-a1011483e79d>\"\u001b[0;36m, line \u001b[0;32m1\u001b[0m\n\u001b[0;31m    r.get_right_child(.get_root_vlaue())\u001b[0m\n\u001b[0m                      ^\u001b[0m\n\u001b[0;31mSyntaxError\u001b[0m\u001b[0;31m:\u001b[0m invalid syntax\n"
     ]
    }
   ],
   "source": [
    "r.get_right_child().get_root_vlaue()"
   ]
  },
  {
   "cell_type": "code",
   "execution_count": null,
   "metadata": {},
   "outputs": [],
   "source": []
  }
 ],
 "metadata": {
  "kernelspec": {
   "display_name": "Python 2",
   "language": "python",
   "name": "python2"
  },
  "language_info": {
   "codemirror_mode": {
    "name": "ipython",
    "version": 2
   },
   "file_extension": ".py",
   "mimetype": "text/x-python",
   "name": "python",
   "nbconvert_exporter": "python",
   "pygments_lexer": "ipython2",
   "version": "2.7.14"
  }
 },
 "nbformat": 4,
 "nbformat_minor": 2
}
